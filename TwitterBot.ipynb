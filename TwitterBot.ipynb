{
 "cells": [
  {
   "cell_type": "code",
   "execution_count": 2,
   "metadata": {},
   "outputs": [
    {
     "name": "stdout",
     "output_type": "stream",
     "text": [
      "[]\n",
      "['https://twitter.com/RCBTweets/status/1213709252168167424/photo/1', 'https://twitter.com/savageclown45/status/1213035506440835072/photo/1', 'https://twitter.com/Im_GopiMohan/status/1212452492543291392/photo/1', 'https://twitter.com/RohitianAdi_45/status/1213404044540051456/photo/1', 'https://twitter.com/Priyans79066678/status/1215109502355365890/photo/1', 'https://twitter.com/bellabajwaa/status/1213902455848787968/photo/1']\n"
     ]
    },
    {
     "ename": "KeyboardInterrupt",
     "evalue": "",
     "output_type": "error",
     "traceback": [
      "\u001b[1;31m---------------------------------------------------------------------------\u001b[0m",
      "\u001b[1;31mKeyboardInterrupt\u001b[0m                         Traceback (most recent call last)",
      "\u001b[1;32m<ipython-input-2-a3cea9f7018f>\u001b[0m in \u001b[0;36m<module>\u001b[1;34m()\u001b[0m\n\u001b[0;32m     43\u001b[0m \u001b[0msum\u001b[0m\u001b[1;33m=\u001b[0m\u001b[0mTwitterBot\u001b[0m\u001b[1;33m(\u001b[0m\u001b[1;34m'sumukhbhoopalam.is17@bmsce.ac.in'\u001b[0m\u001b[1;33m,\u001b[0m\u001b[1;34m'sumukh22'\u001b[0m\u001b[1;33m)\u001b[0m\u001b[1;33m\u001b[0m\u001b[0m\n\u001b[0;32m     44\u001b[0m \u001b[0msum\u001b[0m\u001b[1;33m.\u001b[0m\u001b[0mlogin\u001b[0m\u001b[1;33m(\u001b[0m\u001b[1;33m)\u001b[0m\u001b[1;33m\u001b[0m\u001b[0m\n\u001b[1;32m---> 45\u001b[1;33m \u001b[0msum\u001b[0m\u001b[1;33m.\u001b[0m\u001b[0mlike_tweets\u001b[0m\u001b[1;33m(\u001b[0m\u001b[1;34m'ipl'\u001b[0m\u001b[1;33m)\u001b[0m\u001b[1;33m\u001b[0m\u001b[0m\n\u001b[0m",
      "\u001b[1;32m<ipython-input-2-a3cea9f7018f>\u001b[0m in \u001b[0;36mlike_tweets\u001b[1;34m(self, hashtag)\u001b[0m\n\u001b[0;32m     38\u001b[0m                 \u001b[1;32mtry\u001b[0m\u001b[1;33m:\u001b[0m\u001b[1;33m\u001b[0m\u001b[0m\n\u001b[0;32m     39\u001b[0m                     \u001b[0mbot\u001b[0m\u001b[1;33m.\u001b[0m\u001b[0mfind_element_by_xpath\u001b[0m\u001b[1;33m(\u001b[0m\u001b[1;34m\"//div[@data-testid='like']\"\u001b[0m\u001b[1;33m)\u001b[0m\u001b[1;33m.\u001b[0m\u001b[0mclick\u001b[0m\u001b[1;33m(\u001b[0m\u001b[1;33m)\u001b[0m\u001b[1;33m\u001b[0m\u001b[0m\n\u001b[1;32m---> 40\u001b[1;33m                     \u001b[0mtime\u001b[0m\u001b[1;33m.\u001b[0m\u001b[0msleep\u001b[0m\u001b[1;33m(\u001b[0m\u001b[1;36m10\u001b[0m\u001b[1;33m)\u001b[0m\u001b[1;33m\u001b[0m\u001b[0m\n\u001b[0m\u001b[0;32m     41\u001b[0m                 \u001b[1;32mexcept\u001b[0m \u001b[0mException\u001b[0m \u001b[1;32mas\u001b[0m \u001b[0mex\u001b[0m\u001b[1;33m:\u001b[0m\u001b[1;33m\u001b[0m\u001b[0m\n\u001b[0;32m     42\u001b[0m                     \u001b[0mtime\u001b[0m\u001b[1;33m.\u001b[0m\u001b[0msleep\u001b[0m\u001b[1;33m(\u001b[0m\u001b[1;36m10\u001b[0m\u001b[1;33m)\u001b[0m\u001b[1;33m\u001b[0m\u001b[0m\n",
      "\u001b[1;31mKeyboardInterrupt\u001b[0m: "
     ]
    }
   ],
   "source": [
    "from selenium import webdriver\n",
    "from selenium.webdriver.common.keys import Keys\n",
    "import time\n",
    "\n",
    "class TwitterBot:\n",
    "    def __init__(self,username,password):\n",
    "        self.username=username\n",
    "        self.password=password\n",
    "        self.bot=webdriver.Firefox()\n",
    "        \n",
    "    def login(self):\n",
    "        bot=self.bot\n",
    "        bot.get('https://twitter.com/')\n",
    "        time.sleep(3)\n",
    "        email=bot.find_element_by_class_name('email-input')\n",
    "        password=bot.find_element_by_name('session[password]')\n",
    "        email.clear()\n",
    "        password.clear()\n",
    "        email.send_keys(self.username)\n",
    "        password.send_keys(self.password)\n",
    "        password.send_keys(Keys.RETURN)\n",
    "        time.sleep(3)\n",
    "        \n",
    "        \n",
    "    def like_tweets(self,hashtag):\n",
    "        bot=self.bot\n",
    "        bot.get('https://twitter.com/search?q='+hashtag+'&src=typed_query')\n",
    "        time.sleep(3)\n",
    "        for i in range(1,4):\n",
    "            bot.execute_script('window.scrollTo(0,document.body.scrollHeight)')\n",
    "            time.sleep(10)\n",
    "            links=[i.get_attribute('href') for i in bot.find_elements_by_xpath(\"//div[@class='css-1dbjc4n']/a\")]\n",
    "            filteredLinks=list(filter(lambda x:'status' in x,links)) \n",
    "            print(filteredLinks)\n",
    "            for link in filteredLinks:\n",
    "                bot.get(link)\n",
    "                time.sleep(10)\n",
    "                try:\n",
    "                    bot.find_element_by_xpath(\"//div[@data-testid='like']\").click()\n",
    "                    time.sleep(10)\n",
    "                except Exception as ex:\n",
    "                    time.sleep(10)\n",
    "sum=TwitterBot('your twitter used-id','your password')\n",
    "sum.login()\n",
    "sum.like_tweets('ipl')"
   ]
  },
  {
   "cell_type": "code",
   "execution_count": null,
   "metadata": {},
   "outputs": [],
   "source": []
  }
 ],
 "metadata": {
  "kernelspec": {
   "display_name": "Python 3",
   "language": "python",
   "name": "python3"
  },
  "language_info": {
   "codemirror_mode": {
    "name": "ipython",
    "version": 3
   },
   "file_extension": ".py",
   "mimetype": "text/x-python",
   "name": "python",
   "nbconvert_exporter": "python",
   "pygments_lexer": "ipython3",
   "version": "3.6.5"
  }
 },
 "nbformat": 4,
 "nbformat_minor": 2
}
